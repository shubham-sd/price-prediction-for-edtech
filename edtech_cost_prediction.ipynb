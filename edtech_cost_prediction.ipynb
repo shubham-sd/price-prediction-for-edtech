{
 "cells": [
  {
   "cell_type": "code",
   "execution_count": 1,
   "metadata": {},
   "outputs": [],
   "source": [
    "import pandas as pd"
   ]
  },
  {
   "cell_type": "code",
   "execution_count": 13,
   "metadata": {},
   "outputs": [
    {
     "data": {
      "text/html": [
       "<div>\n",
       "<style scoped>\n",
       "    .dataframe tbody tr th:only-of-type {\n",
       "        vertical-align: middle;\n",
       "    }\n",
       "\n",
       "    .dataframe tbody tr th {\n",
       "        vertical-align: top;\n",
       "    }\n",
       "\n",
       "    .dataframe thead th {\n",
       "        text-align: right;\n",
       "    }\n",
       "</style>\n",
       "<table border=\"1\" class=\"dataframe\">\n",
       "  <thead>\n",
       "    <tr style=\"text-align: right;\">\n",
       "      <th></th>\n",
       "      <th>S.No</th>\n",
       "      <th>Institute</th>\n",
       "      <th>Institute_brand_value</th>\n",
       "      <th>Course_Offered</th>\n",
       "      <th>Course_level</th>\n",
       "      <th>No_of_Instructors</th>\n",
       "      <th>Total_Course_Hours</th>\n",
       "      <th>Mode of Course</th>\n",
       "      <th>Webportal Access</th>\n",
       "      <th>Certification Exam</th>\n",
       "      <th>...</th>\n",
       "      <th>Infrastructure Cost</th>\n",
       "      <th>Technical Requirements</th>\n",
       "      <th>Monthly(Rent)</th>\n",
       "      <th>Monthly(Bills)</th>\n",
       "      <th>Advertising/Marketing</th>\n",
       "      <th>Maintenance</th>\n",
       "      <th>Non_teaching_staff(salary)</th>\n",
       "      <th>Level</th>\n",
       "      <th>teaching_staff(salary)</th>\n",
       "      <th>Price</th>\n",
       "    </tr>\n",
       "  </thead>\n",
       "  <tbody>\n",
       "    <tr>\n",
       "      <th>0</th>\n",
       "      <td>1</td>\n",
       "      <td>Ineuron</td>\n",
       "      <td>Low</td>\n",
       "      <td>Data_Science</td>\n",
       "      <td>Intermediate</td>\n",
       "      <td>2</td>\n",
       "      <td>400</td>\n",
       "      <td>Offline</td>\n",
       "      <td>Yes</td>\n",
       "      <td>Yes</td>\n",
       "      <td>...</td>\n",
       "      <td>200000</td>\n",
       "      <td>100000</td>\n",
       "      <td>70000</td>\n",
       "      <td>8000</td>\n",
       "      <td>5000</td>\n",
       "      <td>30000</td>\n",
       "      <td>40000</td>\n",
       "      <td>A</td>\n",
       "      <td>50000</td>\n",
       "      <td>35000</td>\n",
       "    </tr>\n",
       "    <tr>\n",
       "      <th>1</th>\n",
       "      <td>2</td>\n",
       "      <td>Great_Learning</td>\n",
       "      <td>High</td>\n",
       "      <td>Ethical_hacking</td>\n",
       "      <td>Intermediate</td>\n",
       "      <td>4</td>\n",
       "      <td>300</td>\n",
       "      <td>Online</td>\n",
       "      <td>Yes</td>\n",
       "      <td>Yes</td>\n",
       "      <td>...</td>\n",
       "      <td>200000</td>\n",
       "      <td>100000</td>\n",
       "      <td>100000</td>\n",
       "      <td>8000</td>\n",
       "      <td>10000</td>\n",
       "      <td>30000</td>\n",
       "      <td>60000</td>\n",
       "      <td>A</td>\n",
       "      <td>80000</td>\n",
       "      <td>70000</td>\n",
       "    </tr>\n",
       "    <tr>\n",
       "      <th>2</th>\n",
       "      <td>3</td>\n",
       "      <td>Edyoda</td>\n",
       "      <td>Medium</td>\n",
       "      <td>AI</td>\n",
       "      <td>Advance</td>\n",
       "      <td>2</td>\n",
       "      <td>600</td>\n",
       "      <td>Online</td>\n",
       "      <td>Yes</td>\n",
       "      <td>Yes</td>\n",
       "      <td>...</td>\n",
       "      <td>200000</td>\n",
       "      <td>100000</td>\n",
       "      <td>80000</td>\n",
       "      <td>8000</td>\n",
       "      <td>5000</td>\n",
       "      <td>30000</td>\n",
       "      <td>40000</td>\n",
       "      <td>A</td>\n",
       "      <td>60000</td>\n",
       "      <td>45000</td>\n",
       "    </tr>\n",
       "    <tr>\n",
       "      <th>3</th>\n",
       "      <td>4</td>\n",
       "      <td>Edyoda</td>\n",
       "      <td>Medium</td>\n",
       "      <td>Tableau</td>\n",
       "      <td>Beginers</td>\n",
       "      <td>2</td>\n",
       "      <td>90</td>\n",
       "      <td>Offline</td>\n",
       "      <td>Yes</td>\n",
       "      <td>Yes</td>\n",
       "      <td>...</td>\n",
       "      <td>200000</td>\n",
       "      <td>100000</td>\n",
       "      <td>80000</td>\n",
       "      <td>8000</td>\n",
       "      <td>5000</td>\n",
       "      <td>30000</td>\n",
       "      <td>40000</td>\n",
       "      <td>B</td>\n",
       "      <td>50000</td>\n",
       "      <td>25000</td>\n",
       "    </tr>\n",
       "    <tr>\n",
       "      <th>4</th>\n",
       "      <td>5</td>\n",
       "      <td>Ineuron</td>\n",
       "      <td>Low</td>\n",
       "      <td>AI</td>\n",
       "      <td>Advance</td>\n",
       "      <td>2</td>\n",
       "      <td>600</td>\n",
       "      <td>Online</td>\n",
       "      <td>Yes</td>\n",
       "      <td>Yes</td>\n",
       "      <td>...</td>\n",
       "      <td>200000</td>\n",
       "      <td>100000</td>\n",
       "      <td>70000</td>\n",
       "      <td>8000</td>\n",
       "      <td>5000</td>\n",
       "      <td>30000</td>\n",
       "      <td>40000</td>\n",
       "      <td>B</td>\n",
       "      <td>40000</td>\n",
       "      <td>45000</td>\n",
       "    </tr>\n",
       "  </tbody>\n",
       "</table>\n",
       "<p>5 rows × 22 columns</p>\n",
       "</div>"
      ],
      "text/plain": [
       "   S.No       Institute Institute_brand_value   Course_Offered  Course_level  \\\n",
       "0     1         Ineuron                   Low     Data_Science  Intermediate   \n",
       "1     2  Great_Learning                  High  Ethical_hacking  Intermediate   \n",
       "2     3          Edyoda                Medium               AI       Advance   \n",
       "3     4          Edyoda                Medium          Tableau      Beginers   \n",
       "4     5         Ineuron                   Low               AI       Advance   \n",
       "\n",
       "   No_of_Instructors  Total_Course_Hours Mode of Course Webportal Access  \\\n",
       "0                  2                 400        Offline              Yes   \n",
       "1                  4                 300         Online              Yes   \n",
       "2                  2                 600         Online              Yes   \n",
       "3                  2                  90        Offline              Yes   \n",
       "4                  2                 600         Online              Yes   \n",
       "\n",
       "  Certification Exam  ... Infrastructure Cost  Technical Requirements  \\\n",
       "0                Yes  ...              200000                  100000   \n",
       "1                Yes  ...              200000                  100000   \n",
       "2                Yes  ...              200000                  100000   \n",
       "3                Yes  ...              200000                  100000   \n",
       "4                Yes  ...              200000                  100000   \n",
       "\n",
       "   Monthly(Rent)  Monthly(Bills)  Advertising/Marketing  Maintenance  \\\n",
       "0          70000            8000                   5000        30000   \n",
       "1         100000            8000                  10000        30000   \n",
       "2          80000            8000                   5000        30000   \n",
       "3          80000            8000                   5000        30000   \n",
       "4          70000            8000                   5000        30000   \n",
       "\n",
       "   Non_teaching_staff(salary)  Level  teaching_staff(salary)  Price  \n",
       "0                       40000      A                   50000  35000  \n",
       "1                       60000      A                   80000  70000  \n",
       "2                       40000      A                   60000  45000  \n",
       "3                       40000      B                   50000  25000  \n",
       "4                       40000      B                   40000  45000  \n",
       "\n",
       "[5 rows x 22 columns]"
      ]
     },
     "execution_count": 13,
     "metadata": {},
     "output_type": "execute_result"
    }
   ],
   "source": [
    "df_edtech = pd.read_excel('./cost_of_courses.xlsx')\n",
    "df_edtech.head()"
   ]
  },
  {
   "cell_type": "code",
   "execution_count": 6,
   "metadata": {},
   "outputs": [
    {
     "data": {
      "text/plain": [
       "array(['Offline', 'Online'], dtype=object)"
      ]
     },
     "execution_count": 6,
     "metadata": {},
     "output_type": "execute_result"
    }
   ],
   "source": [
    "df_edtech['Mode of Course'].unique()"
   ]
  },
  {
   "cell_type": "code",
   "execution_count": 3,
   "metadata": {},
   "outputs": [
    {
     "data": {
      "text/plain": [
       "S.No                          0\n",
       "Institute                     0\n",
       "Institute_brand_value         0\n",
       "Course_Offered                0\n",
       "Course_level                  0\n",
       "No_of_Instructors             0\n",
       "Total_Course_Hours            0\n",
       "Mode of Course                0\n",
       "Webportal Access              0\n",
       "Certification Exam            0\n",
       "Placement Offered             0\n",
       "Licencing and Registration    0\n",
       "Infrastructure Cost           0\n",
       "Technical Requirements        0\n",
       "Monthly(Rent)                 0\n",
       "Monthly(Bills)                0\n",
       "Advertising/Marketing         0\n",
       "Maintenance                   0\n",
       "Non_teaching_staff(salary)    0\n",
       "Level                         0\n",
       "teaching_staff(salary)        0\n",
       "Price                         0\n",
       "dtype: int64"
      ]
     },
     "execution_count": 3,
     "metadata": {},
     "output_type": "execute_result"
    }
   ],
   "source": [
    "df_edtech.isna().sum()"
   ]
  },
  {
   "cell_type": "code",
   "execution_count": 4,
   "metadata": {},
   "outputs": [
    {
     "data": {
      "text/html": [
       "<div>\n",
       "<style scoped>\n",
       "    .dataframe tbody tr th:only-of-type {\n",
       "        vertical-align: middle;\n",
       "    }\n",
       "\n",
       "    .dataframe tbody tr th {\n",
       "        vertical-align: top;\n",
       "    }\n",
       "\n",
       "    .dataframe thead th {\n",
       "        text-align: right;\n",
       "    }\n",
       "</style>\n",
       "<table border=\"1\" class=\"dataframe\">\n",
       "  <thead>\n",
       "    <tr style=\"text-align: right;\">\n",
       "      <th></th>\n",
       "      <th>S.No</th>\n",
       "      <th>No_of_Instructors</th>\n",
       "      <th>Total_Course_Hours</th>\n",
       "      <th>Licencing and Registration</th>\n",
       "      <th>Infrastructure Cost</th>\n",
       "      <th>Technical Requirements</th>\n",
       "      <th>Monthly(Rent)</th>\n",
       "      <th>Monthly(Bills)</th>\n",
       "      <th>Advertising/Marketing</th>\n",
       "      <th>Maintenance</th>\n",
       "      <th>Non_teaching_staff(salary)</th>\n",
       "      <th>teaching_staff(salary)</th>\n",
       "      <th>Price</th>\n",
       "    </tr>\n",
       "  </thead>\n",
       "  <tbody>\n",
       "    <tr>\n",
       "      <th>count</th>\n",
       "      <td>150.000000</td>\n",
       "      <td>150.000000</td>\n",
       "      <td>150.000000</td>\n",
       "      <td>150.0</td>\n",
       "      <td>150.0</td>\n",
       "      <td>150.0</td>\n",
       "      <td>150.000000</td>\n",
       "      <td>150.0</td>\n",
       "      <td>150.000000</td>\n",
       "      <td>150.0</td>\n",
       "      <td>150.000000</td>\n",
       "      <td>150.000000</td>\n",
       "      <td>150.000000</td>\n",
       "    </tr>\n",
       "    <tr>\n",
       "      <th>mean</th>\n",
       "      <td>75.500000</td>\n",
       "      <td>2.786667</td>\n",
       "      <td>327.200000</td>\n",
       "      <td>5000.0</td>\n",
       "      <td>200000.0</td>\n",
       "      <td>100000.0</td>\n",
       "      <td>83266.666667</td>\n",
       "      <td>8000.0</td>\n",
       "      <td>7093.333333</td>\n",
       "      <td>30000.0</td>\n",
       "      <td>47866.666667</td>\n",
       "      <td>56066.666667</td>\n",
       "      <td>42733.333333</td>\n",
       "    </tr>\n",
       "    <tr>\n",
       "      <th>std</th>\n",
       "      <td>43.445368</td>\n",
       "      <td>0.840156</td>\n",
       "      <td>169.800989</td>\n",
       "      <td>0.0</td>\n",
       "      <td>0.0</td>\n",
       "      <td>0.0</td>\n",
       "      <td>10837.213210</td>\n",
       "      <td>0.0</td>\n",
       "      <td>2143.655119</td>\n",
       "      <td>0.0</td>\n",
       "      <td>8401.555199</td>\n",
       "      <td>13654.247645</td>\n",
       "      <td>17730.142183</td>\n",
       "    </tr>\n",
       "    <tr>\n",
       "      <th>min</th>\n",
       "      <td>1.000000</td>\n",
       "      <td>2.000000</td>\n",
       "      <td>60.000000</td>\n",
       "      <td>5000.0</td>\n",
       "      <td>200000.0</td>\n",
       "      <td>100000.0</td>\n",
       "      <td>70000.000000</td>\n",
       "      <td>8000.0</td>\n",
       "      <td>5000.000000</td>\n",
       "      <td>30000.0</td>\n",
       "      <td>40000.000000</td>\n",
       "      <td>30000.000000</td>\n",
       "      <td>25000.000000</td>\n",
       "    </tr>\n",
       "    <tr>\n",
       "      <th>25%</th>\n",
       "      <td>38.250000</td>\n",
       "      <td>2.000000</td>\n",
       "      <td>150.000000</td>\n",
       "      <td>5000.0</td>\n",
       "      <td>200000.0</td>\n",
       "      <td>100000.0</td>\n",
       "      <td>80000.000000</td>\n",
       "      <td>8000.0</td>\n",
       "      <td>5000.000000</td>\n",
       "      <td>30000.0</td>\n",
       "      <td>40000.000000</td>\n",
       "      <td>50000.000000</td>\n",
       "      <td>30000.000000</td>\n",
       "    </tr>\n",
       "    <tr>\n",
       "      <th>50%</th>\n",
       "      <td>75.500000</td>\n",
       "      <td>3.000000</td>\n",
       "      <td>350.000000</td>\n",
       "      <td>5000.0</td>\n",
       "      <td>200000.0</td>\n",
       "      <td>100000.0</td>\n",
       "      <td>80000.000000</td>\n",
       "      <td>8000.0</td>\n",
       "      <td>8000.000000</td>\n",
       "      <td>30000.0</td>\n",
       "      <td>50000.000000</td>\n",
       "      <td>60000.000000</td>\n",
       "      <td>35000.000000</td>\n",
       "    </tr>\n",
       "    <tr>\n",
       "      <th>75%</th>\n",
       "      <td>112.750000</td>\n",
       "      <td>4.000000</td>\n",
       "      <td>400.000000</td>\n",
       "      <td>5000.0</td>\n",
       "      <td>200000.0</td>\n",
       "      <td>100000.0</td>\n",
       "      <td>100000.000000</td>\n",
       "      <td>8000.0</td>\n",
       "      <td>10000.000000</td>\n",
       "      <td>30000.0</td>\n",
       "      <td>60000.000000</td>\n",
       "      <td>70000.000000</td>\n",
       "      <td>60000.000000</td>\n",
       "    </tr>\n",
       "    <tr>\n",
       "      <th>max</th>\n",
       "      <td>150.000000</td>\n",
       "      <td>4.000000</td>\n",
       "      <td>600.000000</td>\n",
       "      <td>5000.0</td>\n",
       "      <td>200000.0</td>\n",
       "      <td>100000.0</td>\n",
       "      <td>100000.000000</td>\n",
       "      <td>8000.0</td>\n",
       "      <td>10000.000000</td>\n",
       "      <td>30000.0</td>\n",
       "      <td>60000.000000</td>\n",
       "      <td>80000.000000</td>\n",
       "      <td>80000.000000</td>\n",
       "    </tr>\n",
       "  </tbody>\n",
       "</table>\n",
       "</div>"
      ],
      "text/plain": [
       "             S.No  No_of_Instructors  Total_Course_Hours  \\\n",
       "count  150.000000         150.000000          150.000000   \n",
       "mean    75.500000           2.786667          327.200000   \n",
       "std     43.445368           0.840156          169.800989   \n",
       "min      1.000000           2.000000           60.000000   \n",
       "25%     38.250000           2.000000          150.000000   \n",
       "50%     75.500000           3.000000          350.000000   \n",
       "75%    112.750000           4.000000          400.000000   \n",
       "max    150.000000           4.000000          600.000000   \n",
       "\n",
       "       Licencing and Registration  Infrastructure Cost  \\\n",
       "count                       150.0                150.0   \n",
       "mean                       5000.0             200000.0   \n",
       "std                           0.0                  0.0   \n",
       "min                        5000.0             200000.0   \n",
       "25%                        5000.0             200000.0   \n",
       "50%                        5000.0             200000.0   \n",
       "75%                        5000.0             200000.0   \n",
       "max                        5000.0             200000.0   \n",
       "\n",
       "       Technical Requirements  Monthly(Rent)  Monthly(Bills)  \\\n",
       "count                   150.0     150.000000           150.0   \n",
       "mean                 100000.0   83266.666667          8000.0   \n",
       "std                       0.0   10837.213210             0.0   \n",
       "min                  100000.0   70000.000000          8000.0   \n",
       "25%                  100000.0   80000.000000          8000.0   \n",
       "50%                  100000.0   80000.000000          8000.0   \n",
       "75%                  100000.0  100000.000000          8000.0   \n",
       "max                  100000.0  100000.000000          8000.0   \n",
       "\n",
       "       Advertising/Marketing  Maintenance  Non_teaching_staff(salary)  \\\n",
       "count             150.000000        150.0                  150.000000   \n",
       "mean             7093.333333      30000.0                47866.666667   \n",
       "std              2143.655119          0.0                 8401.555199   \n",
       "min              5000.000000      30000.0                40000.000000   \n",
       "25%              5000.000000      30000.0                40000.000000   \n",
       "50%              8000.000000      30000.0                50000.000000   \n",
       "75%             10000.000000      30000.0                60000.000000   \n",
       "max             10000.000000      30000.0                60000.000000   \n",
       "\n",
       "       teaching_staff(salary)         Price  \n",
       "count              150.000000    150.000000  \n",
       "mean             56066.666667  42733.333333  \n",
       "std              13654.247645  17730.142183  \n",
       "min              30000.000000  25000.000000  \n",
       "25%              50000.000000  30000.000000  \n",
       "50%              60000.000000  35000.000000  \n",
       "75%              70000.000000  60000.000000  \n",
       "max              80000.000000  80000.000000  "
      ]
     },
     "execution_count": 4,
     "metadata": {},
     "output_type": "execute_result"
    }
   ],
   "source": [
    "df_edtech.describe()"
   ]
  },
  {
   "cell_type": "code",
   "execution_count": 5,
   "metadata": {},
   "outputs": [
    {
     "data": {
      "text/plain": [
       "S.No                           int64\n",
       "Institute                     object\n",
       "Institute_brand_value         object\n",
       "Course_Offered                object\n",
       "Course_level                  object\n",
       "No_of_Instructors              int64\n",
       "Total_Course_Hours             int64\n",
       "Mode of Course                object\n",
       "Webportal Access              object\n",
       "Certification Exam            object\n",
       "Placement Offered             object\n",
       "Licencing and Registration     int64\n",
       "Infrastructure Cost            int64\n",
       "Technical Requirements         int64\n",
       "Monthly(Rent)                  int64\n",
       "Monthly(Bills)                 int64\n",
       "Advertising/Marketing          int64\n",
       "Maintenance                    int64\n",
       "Non_teaching_staff(salary)     int64\n",
       "Level                         object\n",
       "teaching_staff(salary)         int64\n",
       "Price                          int64\n",
       "dtype: object"
      ]
     },
     "execution_count": 5,
     "metadata": {},
     "output_type": "execute_result"
    }
   ],
   "source": [
    "df_edtech.dtypes"
   ]
  },
  {
   "cell_type": "code",
   "execution_count": 10,
   "metadata": {},
   "outputs": [
    {
     "data": {
      "text/plain": [
       "Index(['S.No', 'Institute', 'Institute_brand_value', 'Course_Offered',\n",
       "       'Course_level', 'No_of_Instructors', 'Total_Course_Hours',\n",
       "       'Mode of Course', 'Webportal Access', 'Certification Exam',\n",
       "       'Placement Offered', 'Licencing and Registration',\n",
       "       'Infrastructure Cost', 'Technical Requirements', 'Monthly(Rent)',\n",
       "       'Monthly(Bills)', 'Advertising/Marketing', 'Maintenance',\n",
       "       'Non_teaching_staff(salary)', 'Level', 'teaching_staff(salary)',\n",
       "       'Price'],\n",
       "      dtype='object')"
      ]
     },
     "execution_count": 10,
     "metadata": {},
     "output_type": "execute_result"
    }
   ],
   "source": [
    "df_edtech.columns"
   ]
  },
  {
   "cell_type": "code",
   "execution_count": 14,
   "metadata": {},
   "outputs": [
    {
     "data": {
      "text/html": [
       "<div>\n",
       "<style scoped>\n",
       "    .dataframe tbody tr th:only-of-type {\n",
       "        vertical-align: middle;\n",
       "    }\n",
       "\n",
       "    .dataframe tbody tr th {\n",
       "        vertical-align: top;\n",
       "    }\n",
       "\n",
       "    .dataframe thead th {\n",
       "        text-align: right;\n",
       "    }\n",
       "</style>\n",
       "<table border=\"1\" class=\"dataframe\">\n",
       "  <thead>\n",
       "    <tr style=\"text-align: right;\">\n",
       "      <th></th>\n",
       "      <th>Institute_brand_value</th>\n",
       "      <th>Course_Offered</th>\n",
       "      <th>Course_level</th>\n",
       "      <th>No_of_Instructors</th>\n",
       "      <th>Total_Course_Hours</th>\n",
       "      <th>Mode of Course</th>\n",
       "      <th>Certification Exam</th>\n",
       "      <th>Placement Offered</th>\n",
       "      <th>Licencing and Registration</th>\n",
       "      <th>Infrastructure Cost</th>\n",
       "      <th>Technical Requirements</th>\n",
       "      <th>Monthly(Rent)</th>\n",
       "      <th>Monthly(Bills)</th>\n",
       "      <th>Advertising/Marketing</th>\n",
       "      <th>Maintenance</th>\n",
       "      <th>Non_teaching_staff(salary)</th>\n",
       "      <th>teaching_staff(salary)</th>\n",
       "      <th>Price</th>\n",
       "    </tr>\n",
       "  </thead>\n",
       "  <tbody>\n",
       "    <tr>\n",
       "      <th>0</th>\n",
       "      <td>Low</td>\n",
       "      <td>Data_Science</td>\n",
       "      <td>Intermediate</td>\n",
       "      <td>2</td>\n",
       "      <td>400</td>\n",
       "      <td>Offline</td>\n",
       "      <td>Yes</td>\n",
       "      <td>Yes</td>\n",
       "      <td>5000</td>\n",
       "      <td>200000</td>\n",
       "      <td>100000</td>\n",
       "      <td>70000</td>\n",
       "      <td>8000</td>\n",
       "      <td>5000</td>\n",
       "      <td>30000</td>\n",
       "      <td>40000</td>\n",
       "      <td>50000</td>\n",
       "      <td>35000</td>\n",
       "    </tr>\n",
       "    <tr>\n",
       "      <th>1</th>\n",
       "      <td>High</td>\n",
       "      <td>Ethical_hacking</td>\n",
       "      <td>Intermediate</td>\n",
       "      <td>4</td>\n",
       "      <td>300</td>\n",
       "      <td>Online</td>\n",
       "      <td>Yes</td>\n",
       "      <td>No</td>\n",
       "      <td>5000</td>\n",
       "      <td>200000</td>\n",
       "      <td>100000</td>\n",
       "      <td>100000</td>\n",
       "      <td>8000</td>\n",
       "      <td>10000</td>\n",
       "      <td>30000</td>\n",
       "      <td>60000</td>\n",
       "      <td>80000</td>\n",
       "      <td>70000</td>\n",
       "    </tr>\n",
       "    <tr>\n",
       "      <th>2</th>\n",
       "      <td>Medium</td>\n",
       "      <td>AI</td>\n",
       "      <td>Advance</td>\n",
       "      <td>2</td>\n",
       "      <td>600</td>\n",
       "      <td>Online</td>\n",
       "      <td>Yes</td>\n",
       "      <td>Yes</td>\n",
       "      <td>5000</td>\n",
       "      <td>200000</td>\n",
       "      <td>100000</td>\n",
       "      <td>80000</td>\n",
       "      <td>8000</td>\n",
       "      <td>5000</td>\n",
       "      <td>30000</td>\n",
       "      <td>40000</td>\n",
       "      <td>60000</td>\n",
       "      <td>45000</td>\n",
       "    </tr>\n",
       "    <tr>\n",
       "      <th>3</th>\n",
       "      <td>Medium</td>\n",
       "      <td>Tableau</td>\n",
       "      <td>Beginers</td>\n",
       "      <td>2</td>\n",
       "      <td>90</td>\n",
       "      <td>Offline</td>\n",
       "      <td>Yes</td>\n",
       "      <td>No</td>\n",
       "      <td>5000</td>\n",
       "      <td>200000</td>\n",
       "      <td>100000</td>\n",
       "      <td>80000</td>\n",
       "      <td>8000</td>\n",
       "      <td>5000</td>\n",
       "      <td>30000</td>\n",
       "      <td>40000</td>\n",
       "      <td>50000</td>\n",
       "      <td>25000</td>\n",
       "    </tr>\n",
       "    <tr>\n",
       "      <th>4</th>\n",
       "      <td>Low</td>\n",
       "      <td>AI</td>\n",
       "      <td>Advance</td>\n",
       "      <td>2</td>\n",
       "      <td>600</td>\n",
       "      <td>Online</td>\n",
       "      <td>Yes</td>\n",
       "      <td>No</td>\n",
       "      <td>5000</td>\n",
       "      <td>200000</td>\n",
       "      <td>100000</td>\n",
       "      <td>70000</td>\n",
       "      <td>8000</td>\n",
       "      <td>5000</td>\n",
       "      <td>30000</td>\n",
       "      <td>40000</td>\n",
       "      <td>40000</td>\n",
       "      <td>45000</td>\n",
       "    </tr>\n",
       "  </tbody>\n",
       "</table>\n",
       "</div>"
      ],
      "text/plain": [
       "  Institute_brand_value   Course_Offered  Course_level  No_of_Instructors  \\\n",
       "0                   Low     Data_Science  Intermediate                  2   \n",
       "1                  High  Ethical_hacking  Intermediate                  4   \n",
       "2                Medium               AI       Advance                  2   \n",
       "3                Medium          Tableau      Beginers                  2   \n",
       "4                   Low               AI       Advance                  2   \n",
       "\n",
       "   Total_Course_Hours Mode of Course Certification Exam Placement Offered  \\\n",
       "0                 400        Offline                Yes               Yes   \n",
       "1                 300         Online                Yes                No   \n",
       "2                 600         Online                Yes               Yes   \n",
       "3                  90        Offline                Yes                No   \n",
       "4                 600         Online                Yes                No   \n",
       "\n",
       "   Licencing and Registration  Infrastructure Cost  Technical Requirements  \\\n",
       "0                        5000               200000                  100000   \n",
       "1                        5000               200000                  100000   \n",
       "2                        5000               200000                  100000   \n",
       "3                        5000               200000                  100000   \n",
       "4                        5000               200000                  100000   \n",
       "\n",
       "   Monthly(Rent)  Monthly(Bills)  Advertising/Marketing  Maintenance  \\\n",
       "0          70000            8000                   5000        30000   \n",
       "1         100000            8000                  10000        30000   \n",
       "2          80000            8000                   5000        30000   \n",
       "3          80000            8000                   5000        30000   \n",
       "4          70000            8000                   5000        30000   \n",
       "\n",
       "   Non_teaching_staff(salary)  teaching_staff(salary)  Price  \n",
       "0                       40000                   50000  35000  \n",
       "1                       60000                   80000  70000  \n",
       "2                       40000                   60000  45000  \n",
       "3                       40000                   50000  25000  \n",
       "4                       40000                   40000  45000  "
      ]
     },
     "execution_count": 14,
     "metadata": {},
     "output_type": "execute_result"
    }
   ],
   "source": [
    "df_edtech.drop(['S.No', 'Institute', 'Webportal Access', 'Level'], axis=1, inplace=True)\n",
    "df_edtech.head()"
   ]
  },
  {
   "cell_type": "code",
   "execution_count": 15,
   "metadata": {},
   "outputs": [],
   "source": [
    "# separating x and y\n",
    "x = df_edtech.drop('Price', axis=1)\n",
    "y = df_edtech['Price']"
   ]
  },
  {
   "cell_type": "code",
   "execution_count": 16,
   "metadata": {},
   "outputs": [],
   "source": [
    "# train test split\n",
    "from sklearn.model_selection import train_test_split\n",
    "\n",
    "x_train, x_test, y_train, y_test = train_test_split(x, y, test_size=0.2, random_state=42)"
   ]
  },
  {
   "cell_type": "code",
   "execution_count": 45,
   "metadata": {},
   "outputs": [
    {
     "data": {
      "text/plain": [
       "array([35000, 70000, 45000, 25000, 30000, 80000, 32000, 65000, 60000])"
      ]
     },
     "execution_count": 45,
     "metadata": {},
     "output_type": "execute_result"
    }
   ],
   "source": [
    "df_edtech['Price'].unique()"
   ]
  },
  {
   "cell_type": "code",
   "execution_count": 41,
   "metadata": {},
   "outputs": [
    {
     "data": {
      "text/plain": [
       "Institute_brand_value         object\n",
       "Course_Offered                object\n",
       "Course_level                  object\n",
       "No_of_Instructors              int64\n",
       "Total_Course_Hours             int64\n",
       "Mode of Course                object\n",
       "Certification Exam            object\n",
       "Placement Offered             object\n",
       "Licencing and Registration     int64\n",
       "Infrastructure Cost            int64\n",
       "Technical Requirements         int64\n",
       "Monthly(Rent)                  int64\n",
       "Monthly(Bills)                 int64\n",
       "Advertising/Marketing          int64\n",
       "Maintenance                    int64\n",
       "Non_teaching_staff(salary)     int64\n",
       "teaching_staff(salary)         int64\n",
       "Price                          int64\n",
       "dtype: object"
      ]
     },
     "execution_count": 41,
     "metadata": {},
     "output_type": "execute_result"
    }
   ],
   "source": [
    "df_edtech.dtypes"
   ]
  },
  {
   "cell_type": "code",
   "execution_count": 18,
   "metadata": {},
   "outputs": [
    {
     "data": {
      "text/plain": [
       "OneHotEncoder()"
      ]
     },
     "execution_count": 18,
     "metadata": {},
     "output_type": "execute_result"
    }
   ],
   "source": [
    "from sklearn.preprocessing import OneHotEncoder\n",
    "from sklearn.compose import make_column_transformer\n",
    "from sklearn.pipeline import make_pipeline\n",
    "\n",
    "ohe = OneHotEncoder()\n",
    "\n",
    "ohe.fit(x[['Institute_brand_value', 'Course_Offered', 'Course_level','Mode of Course', 'Certification Exam', 'Placement Offered']])"
   ]
  },
  {
   "cell_type": "code",
   "execution_count": 19,
   "metadata": {},
   "outputs": [],
   "source": [
    "column_trans = make_column_transformer((OneHotEncoder(categories=ohe.categories_), ['Institute_brand_value', 'Course_Offered', 'Course_level','Mode of Course', 'Certification Exam', 'Placement Offered']), \n",
    "                                                    remainder='passthrough')"
   ]
  },
  {
   "cell_type": "markdown",
   "metadata": {},
   "source": [
    "##### Random Forest"
   ]
  },
  {
   "cell_type": "code",
   "execution_count": 20,
   "metadata": {},
   "outputs": [],
   "source": [
    "from sklearn.ensemble import RandomForestRegressor\n",
    "from sklearn.preprocessing import StandardScaler\n",
    "from sklearn.metrics import r2_score, mean_squared_error, mean_absolute_error\n",
    "\n",
    "rf_rg = RandomForestRegressor()"
   ]
  },
  {
   "cell_type": "code",
   "execution_count": 21,
   "metadata": {},
   "outputs": [],
   "source": [
    "rf_pipe = make_pipeline(column_trans, StandardScaler(), rf_rg)"
   ]
  },
  {
   "cell_type": "code",
   "execution_count": 22,
   "metadata": {},
   "outputs": [
    {
     "data": {
      "text/plain": [
       "Pipeline(steps=[('columntransformer',\n",
       "                 ColumnTransformer(remainder='passthrough',\n",
       "                                   transformers=[('onehotencoder',\n",
       "                                                  OneHotEncoder(categories=[array(['High', 'Low', 'Medium'], dtype=object),\n",
       "                                                                            array(['AI', 'Data_Science', 'Ethical_hacking', 'Full_stack', 'Tableau'],\n",
       "      dtype=object),\n",
       "                                                                            array(['Advance', 'Beginers', 'Intermediate'], dtype=object),\n",
       "                                                                            array(['Offline', 'Online'], dtype=object),\n",
       "                                                                            array(['No', 'Yes'], dtype=object),\n",
       "                                                                            array(['No', 'Yes'], dtype=object)]),\n",
       "                                                  ['Institute_brand_value',\n",
       "                                                   'Course_Offered',\n",
       "                                                   'Course_level',\n",
       "                                                   'Mode of Course',\n",
       "                                                   'Certification Exam',\n",
       "                                                   'Placement Offered'])])),\n",
       "                ('standardscaler', StandardScaler()),\n",
       "                ('randomforestregressor', RandomForestRegressor())])"
      ]
     },
     "execution_count": 22,
     "metadata": {},
     "output_type": "execute_result"
    }
   ],
   "source": [
    "rf_pipe.fit(x_train, y_train)"
   ]
  },
  {
   "cell_type": "code",
   "execution_count": 23,
   "metadata": {},
   "outputs": [],
   "source": [
    "y_pred = rf_pipe.predict(x_test)"
   ]
  },
  {
   "cell_type": "code",
   "execution_count": 24,
   "metadata": {},
   "outputs": [
    {
     "name": "stdout",
     "output_type": "stream",
     "text": [
      "MAE_rf:  51.666666666666664\n",
      "MSE_rf:  13750.0\n",
      "r2_rf :  0.9999615114268298\n"
     ]
    }
   ],
   "source": [
    "# test accuracy\n",
    "print('MAE_rf: ', mean_absolute_error(y_test, y_pred))\n",
    "print('MSE_rf: ', mean_squared_error(y_test, y_pred))\n",
    "print('r2_rf : ', r2_score(y_test, y_pred)) "
   ]
  },
  {
   "cell_type": "code",
   "execution_count": 25,
   "metadata": {},
   "outputs": [],
   "source": [
    "pred_train = rf_pipe.predict(x_train)"
   ]
  },
  {
   "cell_type": "code",
   "execution_count": 26,
   "metadata": {},
   "outputs": [
    {
     "name": "stdout",
     "output_type": "stream",
     "text": [
      "MAE_rf_t:  17.083333333333332\n",
      "MSE_rf_t:  4604.166666666667\n",
      "r2_rf_t :  0.9999846943863718\n"
     ]
    }
   ],
   "source": [
    "# train accuracy\n",
    "print('MAE_rf_t: ', mean_absolute_error(y_train, pred_train))\n",
    "print('MSE_rf_t: ', mean_squared_error(y_train, pred_train))\n",
    "print('r2_rf_t : ', r2_score(y_train, pred_train)) "
   ]
  },
  {
   "cell_type": "markdown",
   "metadata": {},
   "source": [
    "##### Linear Regression"
   ]
  },
  {
   "cell_type": "code",
   "execution_count": 27,
   "metadata": {},
   "outputs": [],
   "source": [
    "from sklearn.linear_model import LinearRegression\n",
    "from sklearn.preprocessing import StandardScaler\n",
    "\n",
    "lr = LinearRegression()\n",
    "lr_pipe = make_pipeline(column_trans, StandardScaler(), lr)"
   ]
  },
  {
   "cell_type": "code",
   "execution_count": 28,
   "metadata": {},
   "outputs": [],
   "source": [
    "lr_pipe.fit(x_train, y_train)\n",
    "y_pred_lr = lr_pipe.predict(x_test)"
   ]
  },
  {
   "cell_type": "code",
   "execution_count": 29,
   "metadata": {},
   "outputs": [
    {
     "name": "stdout",
     "output_type": "stream",
     "text": [
      "MAE_lr:  2196.1755740811323\n",
      "MSE_lr:  10098236.775422655\n",
      "r2_lr :  0.9717333290893359\n"
     ]
    }
   ],
   "source": [
    "# test accuracy\n",
    "print('MAE_lr: ', mean_absolute_error(y_test, y_pred_lr))\n",
    "print('MSE_lr: ', mean_squared_error(y_test, y_pred_lr))\n",
    "print('r2_lr : ', r2_score(y_test, y_pred_lr))"
   ]
  },
  {
   "cell_type": "code",
   "execution_count": 30,
   "metadata": {},
   "outputs": [],
   "source": [
    "pred_lr_train = lr_pipe.predict(x_train)"
   ]
  },
  {
   "cell_type": "code",
   "execution_count": 31,
   "metadata": {},
   "outputs": [
    {
     "name": "stdout",
     "output_type": "stream",
     "text": [
      "MAE_lr_t:  1772.0732347375874\n",
      "MSE_lr_t:  6436364.770924585\n",
      "r2_lr_t :  0.9786036172263841\n"
     ]
    }
   ],
   "source": [
    "# train accuracy\n",
    "print('MAE_lr_t: ', mean_absolute_error(y_train, pred_lr_train))\n",
    "print('MSE_lr_t: ', mean_squared_error(y_train, pred_lr_train))\n",
    "print('r2_lr_t : ', r2_score(y_train, pred_lr_train)) "
   ]
  },
  {
   "cell_type": "markdown",
   "metadata": {},
   "source": [
    "##### SVR"
   ]
  },
  {
   "cell_type": "code",
   "execution_count": 32,
   "metadata": {},
   "outputs": [],
   "source": [
    "from sklearn.svm import SVR\n",
    "svr = SVR(kernel = 'linear')\n",
    "svr_pipe = make_pipeline(column_trans, StandardScaler(), svr)"
   ]
  },
  {
   "cell_type": "code",
   "execution_count": 33,
   "metadata": {},
   "outputs": [],
   "source": [
    "svr_pipe.fit(x_train, y_train)\n",
    "y_pred_svr = svr_pipe.predict(x_test)"
   ]
  },
  {
   "cell_type": "code",
   "execution_count": 34,
   "metadata": {},
   "outputs": [
    {
     "name": "stdout",
     "output_type": "stream",
     "text": [
      "MAE_svr:  14876.297208693264\n",
      "MSE_svr:  416414161.1344768\n",
      "r2_svr :  -0.16561359345190096\n"
     ]
    }
   ],
   "source": [
    "# test accuracy\n",
    "print('MAE_svr: ', mean_absolute_error(y_test, y_pred_svr))\n",
    "print('MSE_svr: ', mean_squared_error(y_test, y_pred_svr))\n",
    "print('r2_svr : ', r2_score(y_test, y_pred_svr))"
   ]
  },
  {
   "cell_type": "markdown",
   "metadata": {},
   "source": [
    "##### KNeighborsRegressor"
   ]
  },
  {
   "cell_type": "code",
   "execution_count": 35,
   "metadata": {},
   "outputs": [],
   "source": [
    "from sklearn.neighbors import KNeighborsRegressor\n",
    "from sklearn.metrics import accuracy_score\n",
    "\n",
    "knr = KNeighborsRegressor()"
   ]
  },
  {
   "cell_type": "code",
   "execution_count": 36,
   "metadata": {},
   "outputs": [],
   "source": [
    "knr_pipe = make_pipeline(column_trans, StandardScaler(),knr)"
   ]
  },
  {
   "cell_type": "code",
   "execution_count": 37,
   "metadata": {},
   "outputs": [],
   "source": [
    "knr_pipe.fit(x_train, y_train)\n",
    "y_pred_knr = knr_pipe.predict(x_test)"
   ]
  },
  {
   "cell_type": "code",
   "execution_count": 38,
   "metadata": {},
   "outputs": [
    {
     "name": "stdout",
     "output_type": "stream",
     "text": [
      "MAE_svr:  533.3333333333334\n",
      "MSE_svr:  1328000.0\n",
      "r2_svr :  0.9962827036239907\n"
     ]
    }
   ],
   "source": [
    "# test accuracy\n",
    "print('MAE_svr: ', mean_absolute_error(y_test, y_pred_knr))\n",
    "print('MSE_svr: ', mean_squared_error(y_test, y_pred_knr))\n",
    "print('r2_svr : ', r2_score(y_test, y_pred_knr))"
   ]
  },
  {
   "cell_type": "code",
   "execution_count": 39,
   "metadata": {},
   "outputs": [
    {
     "name": "stdout",
     "output_type": "stream",
     "text": [
      "MAE_lr_t:  430.0\n",
      "MSE_lr_t:  3660000.0\n",
      "r2_lr_t :  0.9878330760081852\n"
     ]
    }
   ],
   "source": [
    "# train accuracy\n",
    "y_pred_knr_train = knr_pipe.predict(x_train)\n",
    "print('MAE_lr_t: ', mean_absolute_error(y_train, y_pred_knr_train))\n",
    "print('MSE_lr_t: ', mean_squared_error(y_train, y_pred_knr_train))\n",
    "print('r2_lr_t : ', r2_score(y_train, y_pred_knr_train)) "
   ]
  },
  {
   "cell_type": "code",
   "execution_count": 40,
   "metadata": {},
   "outputs": [],
   "source": [
    "# # saving the model in a pickle file\n",
    "# import pickle\n",
    "\n",
    "# rfr_model = 'rf_reg_model.pkl'\n",
    "# pickle.dump(rf_pipe, open(rfr_model, 'wb'))"
   ]
  }
 ],
 "metadata": {
  "kernelspec": {
   "display_name": "Python 3.8.8 ('base')",
   "language": "python",
   "name": "python3"
  },
  "language_info": {
   "codemirror_mode": {
    "name": "ipython",
    "version": 3
   },
   "file_extension": ".py",
   "mimetype": "text/x-python",
   "name": "python",
   "nbconvert_exporter": "python",
   "pygments_lexer": "ipython3",
   "version": "3.8.8"
  },
  "orig_nbformat": 4,
  "vscode": {
   "interpreter": {
    "hash": "039822f749fe7f2d8dfef17155460c580f6e07a2d07746de3a479f9fbff7965b"
   }
  }
 },
 "nbformat": 4,
 "nbformat_minor": 2
}
